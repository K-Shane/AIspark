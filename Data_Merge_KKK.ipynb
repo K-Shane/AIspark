{
 "cells": [
  {
   "cell_type": "code",
   "execution_count": 23,
   "metadata": {},
   "outputs": [
    {
     "name": "stdout",
     "output_type": "stream",
     "text": [
      "\n",
      "Note: you may need to restart the kernel to use updated packages.\n"
     ]
    }
   ],
   "source": [
    "conda create -n myenv python=3.11"
   ]
  },
  {
   "cell_type": "code",
   "execution_count": 24,
   "metadata": {},
   "outputs": [
    {
     "name": "stdout",
     "output_type": "stream",
     "text": [
      "\n",
      "Note: you may need to restart the kernel to use updated packages.\n"
     ]
    }
   ],
   "source": [
    "conda activate myenv"
   ]
  },
  {
   "cell_type": "code",
   "execution_count": 25,
   "metadata": {},
   "outputs": [
    {
     "name": "stdout",
     "output_type": "stream",
     "text": [
      "\n",
      "Note: you may need to restart the kernel to use updated packages.\n"
     ]
    }
   ],
   "source": [
    "conda install pandas numpy scikit-learn"
   ]
  },
  {
   "cell_type": "code",
   "execution_count": 26,
   "metadata": {},
   "outputs": [],
   "source": [
    "import os\n",
    "import pandas as pd"
   ]
  },
  {
   "cell_type": "code",
   "execution_count": 27,
   "metadata": {},
   "outputs": [
    {
     "name": "stdout",
     "output_type": "stream",
     "text": [
      "Current working directory: c:\\Users\\kkk0-\\Desktop\\aif\\TRAIN\n"
     ]
    }
   ],
   "source": [
    "# import os\n",
    "# import pandas as pd\n",
    "\n",
    "# # 경로 설정 (절대 경로 사용)\n",
    "# train_dir = os.path.abspath(\"C:/Users/kkk0-/Desktop/aif/TRAIN\")\n",
    "# train_aws_dir = os.path.abspath(\"C:/Users/kkk0-/Desktop/aif/TRAIN_AWS\")\n",
    "\n",
    "# # 파일 경로 설정\n",
    "# train_path = os.path.join(train_dir, \"공주.csv\")\n",
    "# train_aws_path = os.path.join(train_aws_dir, \"공주.csv\")\n",
    "\n",
    "# # 데이터 읽기\n",
    "# train_data = pd.read_csv(train_path)\n",
    "# train_aws_data = pd.read_csv(train_aws_path)\n",
    "import os\n",
    "\n",
    "print(\"Current working directory:\", os.getcwd())\n"
   ]
  },
  {
   "cell_type": "code",
   "execution_count": 28,
   "metadata": {},
   "outputs": [
    {
     "name": "stdout",
     "output_type": "stream",
     "text": [
      "TRAIN folder exists: True\n",
      "TRAIN_AWS folder exists: True\n"
     ]
    }
   ],
   "source": [
    "print(\"TRAIN folder exists:\", os.path.exists(\"TRAIN\"))\n",
    "print(\"TRAIN_AWS folder exists:\", os.path.exists(\"TRAIN_AWS\"))\n"
   ]
  },
  {
   "cell_type": "code",
   "execution_count": 29,
   "metadata": {},
   "outputs": [
    {
     "name": "stdout",
     "output_type": "stream",
     "text": [
      "Current working directory: c:\\Users\\kkk0-\\Desktop\\aif\\TRAIN\n",
      "TRAIN folder exists: True\n",
      "TRAIN_AWS folder exists: True\n"
     ]
    }
   ],
   "source": [
    "\n",
    "# 현재 작업 디렉터리 출력\n",
    "print(\"Current working directory:\", os.getcwd())\n",
    "\n",
    "# 폴더 및 파일 존재 확인\n",
    "print(\"TRAIN folder exists:\", os.path.exists(\"TRAIN\"))\n",
    "print(\"TRAIN_AWS folder exists:\", os.path.exists(\"TRAIN_AWS\"))\n",
    "\n",
    "# 파일이 올바른 위치에 있다면 경로 설정 후 데이터 읽기\n",
    "if os.path.exists(\"TRAIN\") and os.path.exists(\"TRAIN_AWS\"):\n",
    "    train_dir = os.path.join(os.getcwd(), \"TRAIN\")\n",
    "    train_aws_dir = os.path.join(os.getcwd(), \"TRAIN_AWS\")\n",
    "\n",
    "    train_path = os.path.join(train_dir, \"공주.csv\")\n",
    "    train_aws_path = os.path.join(train_aws_dir, \"공주.csv\")\n",
    "\n",
    "    # 데이터 읽기\n",
    "    train_data = pd.read_csv(train_path)\n",
    "    train_aws_data = pd.read_csv(train_aws_path)\n",
    "else:\n",
    "    print(\"Please make sure the folders TRAIN and TRAIN_AWS are in the correct directory.\")\n"
   ]
  },
  {
   "cell_type": "code",
   "execution_count": 30,
   "metadata": {},
   "outputs": [
    {
     "name": "stdout",
     "output_type": "stream",
     "text": [
      "        연도           일시  측정소  PM2.5\n",
      "0        0  01-01 00:00   공주  0.056\n",
      "1        0  01-01 01:00   공주  0.060\n",
      "2        0  01-01 02:00   공주  0.068\n",
      "3        0  01-01 03:00   공주  0.060\n",
      "4        0  01-01 04:00   공주  0.068\n",
      "...     ..          ...  ...    ...\n",
      "596083   3  12-31 19:00  홍성읍  0.060\n",
      "596084   3  12-31 20:00  홍성읍  0.052\n",
      "596085   3  12-31 21:00  홍성읍  0.044\n",
      "596086   3  12-31 22:00  홍성읍  0.052\n",
      "596087   3  12-31 23:00  홍성읍  0.060\n",
      "\n",
      "[596088 rows x 4 columns]\n"
     ]
    }
   ],
   "source": [
    "import os\n",
    "import pandas as pd\n",
    "\n",
    "train_dir = os.path.join(os.getcwd(), \"TRAIN\")\n",
    "\n",
    "# TRAIN 폴더 내의 모든 CSV 파일 목록을 가져옵니다.\n",
    "csv_files = [f for f in os.listdir(train_dir) if f.endswith('.csv')]\n",
    "\n",
    "# 빈 DataFrame 생성\n",
    "merged_data = pd.DataFrame()\n",
    "\n",
    "# 각 CSV 파일을 읽어서 결합\n",
    "for file in csv_files:\n",
    "    file_path = os.path.join(train_dir, file)\n",
    "    temp_data = pd.read_csv(file_path)\n",
    "    \n",
    "    # 데이터 프레임 결합\n",
    "    merged_data = pd.concat([merged_data, temp_data], axis=0, ignore_index=True)\n",
    "\n",
    "# 결과 확인\n",
    "print(merged_data)\n",
    "\n",
    "# 결합된 데이터를 새로운 CSV 파일로 저장\n",
    "merged_data.to_csv(\"merged_data.csv\", index=False)\n"
   ]
  },
  {
   "cell_type": "code",
   "execution_count": 35,
   "metadata": {},
   "outputs": [],
   "source": [
    "# import pandas as pd\n",
    "\n",
    "# # merged_data.csv 파일 읽기\n",
    "# merged_data = pd.read_csv(\"merged_data.csv\")\n",
    "\n",
    "# # 결측치 처리\n",
    "# merged_data = merged_data.fillna(method='ffill').fillna(method='bfill')\n",
    "\n",
    "# # 결과 확인\n",
    "# print(merged_data)\n",
    "\n",
    "# # 새로운 CSV 파일로 저장\n",
    "# merged_data.to_csv(\"merged_data_processed.csv\", index=False)\n",
    "\n",
    "\n",
    "# # merged_data_aws.csv 파일 읽기\n",
    "# merged_data_aws = pd.read_csv(\"merged_data_aws.csv\")\n",
    "\n",
    "# # 결측치 처리\n",
    "# merged_data_aws = merged_data_aws.fillna(method='ffill').fillna(method='bfill')\n",
    "\n",
    "# # 결과 확인\n",
    "# print(merged_data_aws)\n",
    "\n",
    "# # 새로운 CSV 파일로 저장\n",
    "# merged_data_aws.to_csv(\"merged_data_aws_processed.csv\", index=False)\n",
    "import pandas as pd\n",
    "import numpy as np\n",
    "\n",
    "# 데이터 읽어오기\n",
    "merged_data = pd.read_csv(\"merged_data.csv\")\n",
    "\n",
    "# pm2.5열의 0 값을 결측치로 바꾸기\n",
    "merged_data.loc[merged_data['PM2.5'] == 0, 'PM2.5'] = np.nan\n",
    "\n",
    "# 결측치 처리\n",
    "merged_data['PM2.5'] = merged_data['PM2.5'].interpolate()\n",
    "\n",
    "# 결측치가 남아있는 부분은 0으로 채우기\n",
    "merged_data['PM2.5'] = merged_data['PM2.5'].fillna(0)\n",
    "\n",
    "# 처리된 데이터 저장하기\n",
    "merged_data.to_csv(\"processed_merged_data.csv\", index=False)\n"
   ]
  },
  {
   "cell_type": "code",
   "execution_count": 38,
   "metadata": {},
   "outputs": [
    {
     "name": "stdout",
     "output_type": "stream",
     "text": [
      "merged_data_aws의 셀 개수: 8415360\n",
      "processed_merged_data의 셀 개수: 2384352\n",
      "Total cells: 1648008\n",
      "Processed cells: 1648008\n",
      "Ratio of processed cells: 1.00\n"
     ]
    }
   ],
   "source": [
    "import pandas as pd\n",
    "\n",
    "# 데이터 읽어오기\n",
    "merged_data_aws = pd.read_csv(\"merged_data_aws.csv\")\n",
    "processed_merged_data = pd.read_csv(\"processed_merged_data.csv\")\n",
    "\n",
    "# 셀 개수 세기\n",
    "num_cells_aws = merged_data_aws.size\n",
    "num_cells_processed = processed_merged_data.size\n",
    "\n",
    "print(\"merged_data_aws의 셀 개수:\", num_cells_aws)\n",
    "print(\"processed_merged_data의 셀 개수:\", num_cells_processed)\n",
    "total_cells = len(merged_data) + len(merged_data_aws)\n",
    "processed_cells = len(processed_merged_data) + len(merged_data_aws)\n",
    "ratio = processed_cells / total_cells\n",
    "\n",
    "print(f\"Total cells: {total_cells}\")\n",
    "print(f\"Processed cells: {processed_cells}\")\n",
    "print(f\"Ratio of processed cells: {ratio:.2f}\")\n"
   ]
  }
 ],
 "metadata": {
  "kernelspec": {
   "display_name": "Python 3",
   "language": "python",
   "name": "python3"
  },
  "language_info": {
   "codemirror_mode": {
    "name": "ipython",
    "version": 3
   },
   "file_extension": ".py",
   "mimetype": "text/x-python",
   "name": "python",
   "nbconvert_exporter": "python",
   "pygments_lexer": "ipython3",
   "version": "3.10.11"
  },
  "orig_nbformat": 4
 },
 "nbformat": 4,
 "nbformat_minor": 2
}
